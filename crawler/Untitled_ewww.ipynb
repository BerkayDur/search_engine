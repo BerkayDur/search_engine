{
 "cells": [
  {
   "cell_type": "code",
   "execution_count": 2,
   "id": "e0dbb152",
   "metadata": {},
   "outputs": [],
   "source": [
    "import requests\n",
    "from bs4 import BeautifulSoup\n",
    "\n",
    "url = \"https://www.bbc.co.uk/sport/football/64818881\"\n",
    "response = requests.get(url)\n"
   ]
  },
  {
   "cell_type": "code",
   "execution_count": 3,
   "id": "7052d252",
   "metadata": {},
   "outputs": [
    {
     "data": {
      "text/plain": [
       "404"
      ]
     },
     "execution_count": 3,
     "metadata": {},
     "output_type": "execute_result"
    }
   ],
   "source": [
    "response.status_code"
   ]
  },
  {
   "cell_type": "code",
   "execution_count": 53,
   "id": "1f716130",
   "metadata": {},
   "outputs": [],
   "source": [
    "# soup.find_all('article')"
   ]
  },
  {
   "cell_type": "code",
   "execution_count": 54,
   "id": "641173a8",
   "metadata": {},
   "outputs": [],
   "source": [
    "full_article = ''\n",
    "for el in soup.find_all('article'):\n",
    "     full_article += el.get_text().strip()"
   ]
  },
  {
   "cell_type": "code",
   "execution_count": 55,
   "id": "ce20e9af",
   "metadata": {},
   "outputs": [
    {
     "data": {
      "text/plain": [
       "'Greece train crash: 57 people confirmed dead as public anger growsPublished2 hours agoShareclose panelShare pageCopy linkAbout sharingImage source, ReutersImage caption, Remains of destroyed train carriage being removed by crane on Thursday morningBy Nick Beake in Larissa & Kathryn Armstrong in LondonBBC NewsThe death toll from Tuesday\\'s train crash in Greece has increased to 57, a coroner has told the BBC. Eleni Zaggelidou, one of ten coroners working on the investigation, said DNA had been taken from 57 intact bodies.Meanwhile, a government minister said austerity during Greece\\'s economic crisis in the 2000s contributed to a lack of investment in the railways.Rail workers held a one-day strike on Thursday following the disaster, blaming government neglect. More than 2,000 people protested for a second day in Athens and Thessaloniki, shocked by Tuesday\\'s disaster near the city of Larissa.\"We are angry at the company, at the government and past governments that did nothing to improve conditions in the Greek railway,\" said pensioner Stavros Nantis in Athens.Rescue workers are still going through burned and buckled carriages, searching for victims.This was the \"most difficult moment\", rescuer Konstantinos Imanimidis told Reuters news agency, because \"instead of saving lives, we have to recover bodies\".The crash happened just before midnight on Tuesday. A passenger train carrying 350 people collided with a freight train after both ended up on the same track - causing the front carriages to burst into flames.Image source, EPAImage caption, Protesters rallied outside the HQ of Greek rail operator Hellenic Train in AthensThe railway workers\\' strike began at 0600 local time (0400 GMT), hitting national rail services and the subway in Athens. Many in Greece see the crash as an accident waiting to happen, and the union blamed successive governments\\' \"disrespect\" towards Greek railways for leading to this \"tragic result\".During a visit to a hospital where relatives of the missing had gathered, Zoe Rapti, Greece\\'s Deputy Minister of Health, told the BBC that investing in the rail network had been made more difficult by the Greek debt crisis around 2010, which led to drastic austerity measures in exchange for a financial rescue by the European Union and International Monetary Fund. \"Of course, things should have been done during these years but, as you remember, Greece faced a big economic crisis for more than 10 years, which means that many things went back,\" she said. She said a \"wide investigation\" would take place, which she promised would provide answers. Image source, AFPImage caption, In Larissa people queued to donate blood for the many train crash injuredGovernment spokesman Giannis Oikonomous also said \"chronic delays\" in implementing rail projects were rooted in \"distortions\" in the country\\'s public sector going back decades. What we know so far about the Greek train crashSurvivors describe \\'nightmarish seconds\\' as trains crashedA 59-year-old station master in Larissa has been charged with manslaughter by negligence and is due to appear in court on Thursday. He has admitted to having a share of responsibility in the accident, his lawyer Stefanos Pantzartzidis said outside the courthouse.\"He is literally devastated. Since the first moment, he has assumed responsibility proportionate to him,\" Mr Pantzartzidis said, hinting that the station master, who has not been publicly named, was not the only one to blame. Greece\\'s Transport Minister Kostas Karamanlis resigned over the crash, saying he would take responsibility for the authorities\\' \"longstanding failures\" to fix a railway system that was not fit for the 21st Century.But Prime Minister Kyriakos Mitsotakis\\'s suggestion that \"tragic human error\" was to blame has caused anger. Pictures of devastation as dozens killedOn Wednesday, rioters clashed with police outside the headquarters of Hellenic Train in Athens - the company responsible for maintaining Greece\\'s railways.Tear gas was used to disperse protesters, who threw stones and lit fires in the streets. At a silent vigil in Larissa to commemorate the victims of the incident, one demonstrator said he felt the disaster had been long coming.\"The rail network looked problematic, with worn down, badly paid staff,\" Nikos Savva, a medical student from Cyprus, told AFP news agency.The station master arrested should not pay the price \"for a whole ailing system\", he added.This video can not be playedTo play this video you need to enable JavaScript in your browser.Media caption, Watch: Rescuers search wreckage of deadly Greece train crashMany of the passengers on board were students in their 20s returning to Thessaloniki after a long weekend celebrating Greek Orthodox Lent.Fire brigade spokesperson Vassilis Varthakogiannis said temperatures inside the first carriage - which burst into flames - had reached 1,300C (2,370F), making it \"hard to identify the people who were inside\".Local media have reported that more than 10 people are still missing, as Greece observes three days of national mourning.Families have given DNA samples to help identification efforts, with the results expected on Thursday.One of those, a woman called Katerina searching for her missing brother, a passenger on the train, shouted \"Murderers!\" outside the hospital in Larissa, directing her anger towards the government and the rail company, Reuters reports.Kostas Malizos, a recently retired surgeon and Emeritus Professor at Greece\\'s University of Thessaly, has returned to work to perform surgery on injured passengers.\"It\\'s a disaster, it\\'s catastrophic,\" he said. \"Families are crying tonight. Unfortunately, the majority of the lost people are young students. They left home, happy after the long weekend, to go for their studies or to see their relatives and never reached them.\"How have you been personally affected by this story? Tell us by emailing: haveyoursay@bbc.co.ukPlease include a contact number if you are willing to speak to a BBC journalist. You can also get in touch in the following ways:WhatsApp: +44 7756 165803Tweet: @BBC_HaveYourSayOr fill out the form belowPlease read our terms & conditions and privacy policy\\n\\nIf you are reading this page and can\\'t see the form you will need to visit the mobile version of the BBC website to submit your question or comment or you can email us at HaveYourSay@bbc.co.uk. Please include your name, age and location with any submission. Related TopicsGreeceRail travelMore on this storyPictures show devastation after Greece train disaster1 day agoThree die as Greek train hits house14 May 2017'"
      ]
     },
     "execution_count": 55,
     "metadata": {},
     "output_type": "execute_result"
    }
   ],
   "source": [
    "full_article"
   ]
  },
  {
   "cell_type": "code",
   "execution_count": 17,
   "id": "58110593",
   "metadata": {},
   "outputs": [],
   "source": [
    "import os\n",
    "import shelve\n",
    "import pickle\n",
    "from collections import Counter\n",
    "import math"
   ]
  },
  {
   "cell_type": "code",
   "execution_count": 6,
   "id": "c9c2728d",
   "metadata": {},
   "outputs": [],
   "source": [
    "# common.py\n",
    "from bs4 import BeautifulSoup\n",
    "import requests\n",
    "def extract_sitemaps(sitemap_url):\n",
    "    res = requests.get(sitemap_url)\n",
    "    if res.status_code != 200:\n",
    "        return []\n",
    "\n",
    "    soup = BeautifulSoup(res.text, 'xml')\n",
    "\n",
    "    sitemap_tags = soup.find_all('sitemap')\n",
    "\n",
    "    sitemaps = []\n",
    "    for sitemap in sitemap_tags:\n",
    "        loc = sitemap.find('loc')\n",
    "        sitemaps.append(loc.text)\n",
    "    return sitemaps\n",
    "\n",
    "\n",
    "\n",
    "\n",
    "def extract_urls_from_sitemap(sitemap_url):\n",
    "    res = requests.get(sitemap_url)\n",
    "    if res.status_code != 200:\n",
    "        return []\n",
    "\n",
    "    soup = BeautifulSoup(res.text, 'xml')\n",
    "\n",
    "    urls = []\n",
    "    url_tags = soup.find_all('url')\n",
    "    for url in url_tags:\n",
    "        loc = url.find('loc')\n",
    "        urls.append(loc.text)\n",
    "\n",
    "    return urls"
   ]
  },
  {
   "cell_type": "code",
   "execution_count": 33,
   "id": "47aa1ada",
   "metadata": {},
   "outputs": [],
   "source": [
    "# //helper.py\n",
    "import requests\n",
    "from bs4 import BeautifulSoup\n",
    "\n",
    "\n",
    "def extract_text_from_url(url):\n",
    "    res = requests.get(url)\n",
    "    if res.status_code != 200:\n",
    "        return ''\n",
    "\n",
    "    soup = BeautifulSoup(res.text, 'html.parser')\n",
    "    h1 = soup.find('h1')\n",
    "    if h1 is None:\n",
    "        return ''\n",
    "\n",
    "    main_content = soup.find_all('article')\n",
    "    chunks = []\n",
    "    chunks.append(h1.get_text().strip())\n",
    "    for p in main_content[:2]:\n",
    "        chunks.append(p.get_text().strip())\n",
    "\n",
    "    return '\\n'.join(chunks)"
   ]
  },
  {
   "cell_type": "code",
   "execution_count": 34,
   "id": "f3528a87",
   "metadata": {},
   "outputs": [],
   "source": [
    "def crawl(visited_urls):\n",
    "    sitemap_url = 'https://www.bbc.com/sitemaps/https-index-com-news.xml'\n",
    "    sitemaps = extract_sitemaps(sitemap_url)\n",
    "    for sitemap in sitemaps[1:101]:\n",
    "        urls = extract_urls_from_sitemap(sitemap)\n",
    "        for url in urls:\n",
    "            if url not in visited_urls:\n",
    "#                 visited_urls.add(url)\n",
    "                text = extract_text_from_url(url)\n",
    "                print(text)"
   ]
  },
  {
   "cell_type": "code",
   "execution_count": 35,
   "id": "d1cbcfcf",
   "metadata": {},
   "outputs": [],
   "source": [
    "import os"
   ]
  },
  {
   "cell_type": "code",
   "execution_count": 36,
   "id": "35b9eed6",
   "metadata": {},
   "outputs": [],
   "source": [
    "visited_urls_file = os.path.join(os.getcwd(), 'db', 'visited_urls.db')"
   ]
  },
  {
   "cell_type": "code",
   "execution_count": null,
   "id": "73257730",
   "metadata": {},
   "outputs": [],
   "source": []
  }
 ],
 "metadata": {
  "kernelspec": {
   "display_name": "Python 3 (ipykernel)",
   "language": "python",
   "name": "python3"
  },
  "language_info": {
   "codemirror_mode": {
    "name": "ipython",
    "version": 3
   },
   "file_extension": ".py",
   "mimetype": "text/x-python",
   "name": "python",
   "nbconvert_exporter": "python",
   "pygments_lexer": "ipython3",
   "version": "3.10.7"
  }
 },
 "nbformat": 4,
 "nbformat_minor": 5
}
