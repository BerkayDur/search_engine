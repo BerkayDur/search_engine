{
 "cells": [
  {
   "cell_type": "code",
   "execution_count": 1,
   "id": "9522a591",
   "metadata": {},
   "outputs": [],
   "source": [
    "from rank_bm25 import BM25Okapi\n",
    "from pymongo import MongoClient\n",
    "import psycopg2\n",
    "\n",
    "# Connect to the PostgreSQL database\n",
    "conn = psycopg2.connect(\n",
    "    host=\"localhost\",\n",
    "    database=\"SearchEngine\",\n",
    "    user=\"postgres\",\n",
    "    password=\"2580\"\n",
    ")\n",
    "\n",
    "# Create a cursor object\n",
    "cursor = conn.cursor()\n"
   ]
  },
  {
   "cell_type": "code",
   "execution_count": 47,
   "id": "9eff9915",
   "metadata": {},
   "outputs": [],
   "source": [
    "user_input = 'Great'"
   ]
  },
  {
   "cell_type": "code",
   "execution_count": 48,
   "id": "01bd1d7a",
   "metadata": {},
   "outputs": [],
   "source": [
    "client = MongoClient('mongodb://localhost:27017/')\n",
    "# select a database\n",
    "db = client['inverted_index']\n",
    "mycollection = db['inverted_index']"
   ]
  },
  {
   "cell_type": "code",
   "execution_count": 49,
   "id": "e98a5968",
   "metadata": {},
   "outputs": [],
   "source": [
    "words = user_input.split()"
   ]
  },
  {
   "cell_type": "code",
   "execution_count": 50,
   "id": "69bff9f4",
   "metadata": {},
   "outputs": [
    {
     "data": {
      "text/plain": [
       "['Great']"
      ]
     },
     "execution_count": 50,
     "metadata": {},
     "output_type": "execute_result"
    }
   ],
   "source": [
    "words"
   ]
  },
  {
   "cell_type": "code",
   "execution_count": 51,
   "id": "556cd017",
   "metadata": {},
   "outputs": [
    {
     "name": "stdout",
     "output_type": "stream",
     "text": [
      "Great [192, 255, 299, 320, 401, 423, 471, 480, 689, 753, 797, 818, 922, 969, 978, 1188, 1251, 1295, 1417, 1858]\n"
     ]
    }
   ],
   "source": [
    "rel_docs = set()\n",
    "for word in words:\n",
    "    myquery = {\"word\": word}\n",
    "    results  = mycollection.find(myquery)\n",
    "    for result in results:\n",
    "        docs = result['doc_ids']\n",
    "        print(word,docs)\n",
    "        rel_docs.update(docs)"
   ]
  },
  {
   "cell_type": "code",
   "execution_count": 52,
   "id": "420d3d06",
   "metadata": {},
   "outputs": [],
   "source": [
    "rel_docs = list(rel_docs)"
   ]
  },
  {
   "cell_type": "code",
   "execution_count": 53,
   "id": "d4abf9ca",
   "metadata": {},
   "outputs": [
    {
     "data": {
      "text/plain": [
       "20"
      ]
     },
     "execution_count": 53,
     "metadata": {},
     "output_type": "execute_result"
    }
   ],
   "source": [
    "len(rel_docs)"
   ]
  },
  {
   "cell_type": "code",
   "execution_count": 54,
   "id": "d1b1d842",
   "metadata": {},
   "outputs": [],
   "source": [
    "documents  = []\n",
    "\n",
    "for idx in rel_docs:\n",
    "    query = f\"SELECT * FROM sites where id = {idx};\"\n",
    "    cursor.execute(query)\n",
    "    results = cursor.fetchall()\n",
    "    for row in results:\n",
    "        doc_id = row[0]\n",
    "        url = row[1]\n",
    "        text = row[2]\n",
    "        documents.append(text)"
   ]
  },
  {
   "cell_type": "code",
   "execution_count": 55,
   "id": "27265702",
   "metadata": {},
   "outputs": [
    {
     "data": {
      "text/plain": [
       "20"
      ]
     },
     "execution_count": 55,
     "metadata": {},
     "output_type": "execute_result"
    }
   ],
   "source": [
    "len(documents)"
   ]
  },
  {
   "cell_type": "code",
   "execution_count": 56,
   "id": "978c55f3",
   "metadata": {},
   "outputs": [],
   "source": [
    "tokenized_corpus = [doc.split(\" \") for doc in documents]"
   ]
  },
  {
   "cell_type": "code",
   "execution_count": 57,
   "id": "7028393f",
   "metadata": {},
   "outputs": [],
   "source": [
    "bm25 = BM25Okapi(tokenized_corpus)\n"
   ]
  },
  {
   "cell_type": "code",
   "execution_count": 58,
   "id": "fc1832e3",
   "metadata": {},
   "outputs": [],
   "source": [
    "tokenized_query = words"
   ]
  },
  {
   "cell_type": "code",
   "execution_count": 59,
   "id": "94d84c53",
   "metadata": {},
   "outputs": [],
   "source": [
    "doc_scores = bm25.get_scores(tokenized_query)"
   ]
  },
  {
   "cell_type": "code",
   "execution_count": 60,
   "id": "879bea35",
   "metadata": {},
   "outputs": [
    {
     "data": {
      "text/plain": [
       "array([12, 16, 14,  1,  4,  7,  9, 11, 18, 19, 17,  2, 13, 15,  6,  3, 10,\n",
       "        8,  5,  0], dtype=int64)"
      ]
     },
     "execution_count": 60,
     "metadata": {},
     "output_type": "execute_result"
    }
   ],
   "source": [
    "doc_scores.argsort()[::-1]"
   ]
  },
  {
   "cell_type": "code",
   "execution_count": 61,
   "id": "b133bbee",
   "metadata": {},
   "outputs": [
    {
     "name": "stdout",
     "output_type": "stream",
     "text": [
      "12\n"
     ]
    }
   ],
   "source": [
    "max_scored = doc_scores.argsort()[::-1][0]\n",
    "print(max_scored)"
   ]
  },
  {
   "cell_type": "code",
   "execution_count": 62,
   "id": "8d8fa969",
   "metadata": {},
   "outputs": [
    {
     "data": {
      "text/plain": [
       "'Scientists reveal hidden corridor in Great Pyramid of Giza CAIRO, March 2 (Reuters) - A hidden corridor nine metres (30 feet) long has been discovered close to the main entrance of the 4,500-year-old Great Pyramid of Giza, and this could lead to further findings, Egyptian antiquities officials said on Thursday. The discovery within the pyramid, the last of the Seven Wonders of the Ancient World still standing, was made under the Scan Pyramids project that since 2015 has been using non-invasive technology including infrared thermography, 3D simulations and cosmic-ray imaging to peer inside the structure. An article published in the journal Nature on Thursday said the discovery could contribute to knowledge about the construction of the pyramid and the purpose of a gabled limestone structure that sits in front of the corridor. The Great Pyramid was constructed as a monumental tomb around 2560 BC during the reign of the Pharaoh Khufu, or Cheops. Built to a height of 146 metres (479 feet), it now stands at 139 metres and was the tallest structure made by humans until the Eiffel Tower in Paris in 1889. View 2 more stories  [1/4]\\xa0A hidden corridor inside the Great Pyramid of Giza that was discovered by researches from the the Scan Pyramids project by the Egyptian Tourism Ministry of Antiquities is seen in Giza, Egypt March 2, 2023. The Egyptian Ministry of Antiquities/Handout via REUTERS The unfinished corridor was likely created to redistribute the pyramid\\'s weight around either the main entrance now used by tourists, almost seven metres away, or around another as yet undiscovered chamber or space, said Mostafa Waziri, head of Egypt\\'s Supreme Council of Antiquities. \"We\\'re going to continue our scanning so we will see what we can do ... to figure out what we can find out beneath it, or just by the end of this corridor,\" he told reporters after a press conference in front of the pyramid. Five rooms atop the king\\'s burial chamber in another part of the pyramid are also thought to have been built to redistribute the weight of the massive structure. It was possible the pharaoh had more than one burial chamber, Waziri added. Scientists detected the corridor through cosmic-ray muon radiography, before retrieving images of it by feeding a 6mm-thick endoscope from Japan through a tiny joint in the pyramid\\'s stones. In 2017, Scan Pyramids researchers announced the discovery of a void at least 30 metres long inside the Great Pyramid, the first major inner structure found since the 19th century. Our Standards: The Thomson Reuters Trust Principles. Rishi Sunak is refusing to rush Britain back into the EU\\'s 95.5 billion euros ($101.32 billion) Horizon Europe research programme, the Financial Times reported on Friday. Reuters, the news and media division of Thomson Reuters, is the world’s largest multimedia news provider, reaching billions of people worldwide every day. Reuters provides business, financial, national and international news to professionals via desktop terminals, the world\\'s media organizations, industry events and directly to consumers. Build the strongest argument relying on authoritative content, attorney-editor expertise, and industry defining technology. The most comprehensive solution to manage all your complex and ever-expanding tax and compliance needs. The industry leader for online information for tax, accounting and finance professionals.  Access unmatched financial data, news and content in a highly-customised workflow experience on desktop, web and mobile.  Browse an unrivalled portfolio of real-time and historical market data and insights from worldwide sources and experts. Screen for heightened risk individual and entities globally to help uncover hidden risks in business relationships and human networks. All quotes delayed a minimum of 15 minutes. See here for a complete list of exchanges and delays. © 2023 Reuters. All rights reserved'"
      ]
     },
     "execution_count": 62,
     "metadata": {},
     "output_type": "execute_result"
    }
   ],
   "source": [
    "documents[max_scored]"
   ]
  },
  {
   "cell_type": "code",
   "execution_count": 18,
   "id": "d0386e93",
   "metadata": {},
   "outputs": [],
   "source": [
    "doc_id = rel_docs[max_scored]"
   ]
  },
  {
   "cell_type": "code",
   "execution_count": 19,
   "id": "b607be51",
   "metadata": {},
   "outputs": [
    {
     "name": "stdout",
     "output_type": "stream",
     "text": [
      "(630, 'https://www.bbc.com/news/articles/cn4792z2n6eo', 'Thousands more to lose NHS dentist access Access to NHS services in the region has been described as \"extremely limited\" At a glance Thousands more patients in Dumfries and Galloway face being deregistered from NHS dental services About 5,000 people will be affected by the move at the Blue Door Practice in Dumfries It follows similar action at a number of other sites across the region NHS Dumfries and Galloway said it was working hard to tackle the situation Thousands more patients are to be deregistered from NHS dental services in the south of Scotland. NHS Dumfries and Galloway said it had received notification of the move by the Blue Door Dental Practice. It means that about 5,000 adults face being deregistered by the Dumfries facility from 1 June. With access to NHS registration in the region \"extremely limited\" they are likely to have to travel outside the region to secure such provision or have to go private. Read more stories from the south of Scotland Listen to news from Dumfries and Galloway on BBC Sounds All children under 18 will remain registered and continue to be offered NHS care at the practice. Director of public health Valerie White said they were working hard to encourage and support dentists to provide NHS services and talking to the Scottish government about the situation. \"However, lack of dentists coming to work in the region is a key issue, and challenges in dental workforce are being seen across the UK,\" she said. Anyone who is not registered with a dentist and requires emergency dental care should contact a helpline on 0845 602 6417. Have you been affected by this issue in Dumfries and Galloway? If so, contact us with your story on dumfries@bbc.co.uk, external. Patients have to leave region to find NHS dentist \\'Eyesore\\' Borders building posing risk to public safety set for demolition Hawick: Woman who assaulted ex\\'s new partner given unpaid work How much more will you pay? Seeds planted for Hawick community garden Legendary yachtsman Chay sails into Heart of Hawick Scotland\\'s best kebab house named as takeaway crowned winner at top awards Jury finds US lawyer Alex Murdaugh guilty of murder MI5 \\'profoundly sorry\\' it did not stop arena bomb Marten and Gordon charged with gross negligence manslaughter A fiery detective with a brilliant mind. VideoA fiery detective with a brilliant mind From near-misses to marital squabbles! VideoFrom near-misses to marital squabbles! How to get money off your weekly shop. AudioHow to get money off your weekly shop The man facing 291 years in jail. VideoThe man facing 291 years in jail Â© 2023 BBC. The BBC is not responsible for the content of external sites. Read about our approach to external linking.', None)\n"
     ]
    }
   ],
   "source": [
    "query = f\"SELECT * FROM sites where id = {doc_id};\"\n",
    "cursor.execute(query)\n",
    "results = cursor.fetchall()\n",
    "for row in results:\n",
    "    print(row)"
   ]
  },
  {
   "cell_type": "code",
   "execution_count": 20,
   "id": "660c56c5",
   "metadata": {},
   "outputs": [
    {
     "data": {
      "text/plain": [
       "'Thousands more to lose NHS dentist access Access to NHS services in the region has been described as \"extremely limited\" At a glance Thousands more patients in Dumfries and Galloway face being deregistered from NHS dental services About 5,000 people will be affected by the move at the Blue Door Practice in Dumfries It follows similar action at a number of other sites across the region NHS Dumfries and Galloway said it was working hard to tackle the situation Thousands more patients are to be deregistered from NHS dental services in the south of Scotland. NHS Dumfries and Galloway said it had received notification of the move by the Blue Door Dental Practice. It means that about 5,000 adults face being deregistered by the Dumfries facility from 1 June. With access to NHS registration in the region \"extremely limited\" they are likely to have to travel outside the region to secure such provision or have to go private. Read more stories from the south of Scotland Listen to news from Dumfries and Galloway on BBC Sounds All children under 18 will remain registered and continue to be offered NHS care at the practice. Director of public health Valerie White said they were working hard to encourage and support dentists to provide NHS services and talking to the Scottish government about the situation. \"However, lack of dentists coming to work in the region is a key issue, and challenges in dental workforce are being seen across the UK,\" she said. Anyone who is not registered with a dentist and requires emergency dental care should contact a helpline on 0845 602 6417. Have you been affected by this issue in Dumfries and Galloway? If so, contact us with your story on dumfries@bbc.co.uk, external. Patients have to leave region to find NHS dentist \\'Eyesore\\' Borders building posing risk to public safety set for demolition Hawick: Woman who assaulted ex\\'s new partner given unpaid work How much more will you pay? Seeds planted for Hawick community garden Legendary yachtsman Chay sails into Heart of Hawick Scotland\\'s best kebab house named as takeaway crowned winner at top awards Jury finds US lawyer Alex Murdaugh guilty of murder MI5 \\'profoundly sorry\\' it did not stop arena bomb Marten and Gordon charged with gross negligence manslaughter A fiery detective with a brilliant mind. VideoA fiery detective with a brilliant mind From near-misses to marital squabbles! VideoFrom near-misses to marital squabbles! How to get money off your weekly shop. AudioHow to get money off your weekly shop The man facing 291 years in jail. VideoThe man facing 291 years in jail Â© 2023 BBC. The BBC is not responsible for the content of external sites. Read about our approach to external linking.'"
      ]
     },
     "execution_count": 20,
     "metadata": {},
     "output_type": "execute_result"
    }
   ],
   "source": [
    "documents[3]"
   ]
  },
  {
   "cell_type": "code",
   "execution_count": null,
   "id": "810729b8",
   "metadata": {},
   "outputs": [],
   "source": []
  },
  {
   "cell_type": "code",
   "execution_count": null,
   "id": "a58efca1",
   "metadata": {},
   "outputs": [],
   "source": []
  }
 ],
 "metadata": {
  "kernelspec": {
   "display_name": "Python 3 (ipykernel)",
   "language": "python",
   "name": "python3"
  },
  "language_info": {
   "codemirror_mode": {
    "name": "ipython",
    "version": 3
   },
   "file_extension": ".py",
   "mimetype": "text/x-python",
   "name": "python",
   "nbconvert_exporter": "python",
   "pygments_lexer": "ipython3",
   "version": "3.10.7"
  }
 },
 "nbformat": 4,
 "nbformat_minor": 5
}
