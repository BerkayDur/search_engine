{
 "cells": [
  {
   "cell_type": "code",
   "execution_count": 3,
   "id": "77cedadd",
   "metadata": {},
   "outputs": [],
   "source": [
    "import psycopg2\n",
    "\n",
    "# Connect to the PostgreSQL database\n",
    "conn = psycopg2.connect(\n",
    "    host=\"localhost\",\n",
    "    database=\"SearchEngine\",\n",
    "    user=\"postgres\",\n",
    "    password=\"2580\"\n",
    ")\n",
    "\n",
    "# Create a cursor object\n",
    "cursor = conn.cursor()\n",
    "\n",
    "# Execute a query\n",
    "cursor.execute(\"SELECT * FROM sites\")\n",
    "\n",
    "# Fetch the results as a list of tuples\n",
    "results = cursor.fetchall()\n",
    "\n",
    "# Iterate over the results and print each row\n",
    "for row in results:\n",
    "    print(row)\n",
    "\n",
    "# Close the cursor and the database connection\n",
    "cursor.close()\n",
    "conn.close()\n"
   ]
  },
  {
   "cell_type": "code",
   "execution_count": 1,
   "id": "46c1bed7",
   "metadata": {},
   "outputs": [],
   "source": [
    "import requests\n",
    "from html import unescape\n",
    "import re\n",
    "from bs4 import BeautifulSoup"
   ]
  },
  {
   "cell_type": "code",
   "execution_count": 2,
   "id": "9c888787",
   "metadata": {},
   "outputs": [],
   "source": []
  },
  {
   "cell_type": "code",
   "execution_count": 3,
   "id": "a7777fd3",
   "metadata": {},
   "outputs": [],
   "source": [
    "res = requests.get(url)\n",
    "if res.status_code != 200:\n",
    "    print('ohho')\n",
    "\n",
    "soup = BeautifulSoup(res.text, 'xml')\n",
    "\n",
    "sitemap_tags = soup.find_all('sitemap')\n",
    "\n",
    "sitemaps = []\n",
    "for sitemap in sitemap_tags:\n",
    "    loc = sitemap.find('loc')\n",
    "    sitemaps.append(loc.text)"
   ]
  },
  {
   "cell_type": "code",
   "execution_count": 4,
   "id": "ac8b9718",
   "metadata": {},
   "outputs": [
    {
     "data": {
      "text/plain": [
       "['https://www.reuters.com/arc/outboundfeeds/news-sitemap/?outputType=xml',\n",
       " 'https://www.reuters.com/arc/outboundfeeds/news-sitemap/?outputType=xml&from=100',\n",
       " 'https://www.reuters.com/arc/outboundfeeds/news-sitemap/?outputType=xml&from=200',\n",
       " 'https://www.reuters.com/arc/outboundfeeds/news-sitemap/?outputType=xml&from=300',\n",
       " 'https://www.reuters.com/arc/outboundfeeds/news-sitemap/?outputType=xml&from=400',\n",
       " 'https://www.reuters.com/arc/outboundfeeds/news-sitemap/?outputType=xml&from=500',\n",
       " 'https://www.reuters.com/arc/outboundfeeds/news-sitemap/?outputType=xml&from=600',\n",
       " 'https://www.reuters.com/arc/outboundfeeds/news-sitemap/?outputType=xml&from=700',\n",
       " 'https://www.reuters.com/arc/outboundfeeds/news-sitemap/?outputType=xml&from=800',\n",
       " 'https://www.reuters.com/arc/outboundfeeds/news-sitemap/?outputType=xml&from=900',\n",
       " 'https://www.reuters.com/arc/outboundfeeds/news-sitemap/?outputType=xml&from=1000']"
      ]
     },
     "execution_count": 4,
     "metadata": {},
     "output_type": "execute_result"
    }
   ],
   "source": [
    "sitemaps"
   ]
  },
  {
   "cell_type": "code",
   "execution_count": 5,
   "id": "7c697e0c",
   "metadata": {},
   "outputs": [],
   "source": [
    "sitemap = 'https://www.reuters.com/arc/outboundfeeds/news-sitemap/?outputType=xml&from=600'"
   ]
  },
  {
   "cell_type": "code",
   "execution_count": 11,
   "id": "f336ca6a",
   "metadata": {},
   "outputs": [],
   "source": [
    "response = requests.get(sitemap)\n",
    "soup = BeautifulSoup(response.text, 'xml')\n",
    "url_tags = soup.find_all('url')"
   ]
  },
  {
   "cell_type": "code",
   "execution_count": 16,
   "id": "ce717d51",
   "metadata": {},
   "outputs": [
    {
     "name": "stdout",
     "output_type": "stream",
     "text": [
      "https://www.reuters.com/lifestyle/sports/new-china-coach-jankovic-has-sights-2026-world-cup-qualification-2023-03-02/\n",
      "https://www.reuters.com/business/autos-transportation/russias-avtovaz-sales-up-47-annually-feb-2023-03-02/\n",
      "https://www.reuters.com/world/india/indias-market-regulator-cracks-down-stock-manipulation-via-youtube-2023-03-02/\n",
      "https://www.reuters.com/business/energy/oman-offer-offshore-oil-gas-concessions-this-year-tweet-2023-03-02/\n",
      "https://www.reuters.com/world/china/free-education-equal-rights-unmarried-women-among-proposals-boost-chinas-2023-03-02/\n",
      "https://www.reuters.com/markets/commodities/oman-offer-new-mining-concessions-q1-2023-tweet-2023-03-02/\n",
      "https://www.reuters.com/world/europe/russian-missile-strike-kills-3-zaporizhzhia-says-ukraine-police-2023-03-02/\n",
      "https://www.reuters.com/business/media-telecom/telecoms-company-orange-gets-500-mln-euros-loan-european-investment-bank-2023-03-02/\n",
      "https://www.reuters.com/markets/asia/ab-inbev-beats-profit-expectations-despite-selling-less-beer-2023-03-02/\n",
      "https://www.reuters.com/technology/binance-revive-bid-singapore-crypto-permit-nikkei-2023-03-02/\n",
      "https://www.reuters.com/world/asia-pacific/australian-indigenous-group-steps-up-campaign-protect-sacred-rock-art-2023-03-02/\n",
      "https://www.reuters.com/markets/asia/china-holds-up-chipmaker-arms-plan-offload-joint-venture-ft-2023-03-02/\n",
      "https://www.reuters.com/lifestyle/sports/australias-collapse-lets-india-claw-back-into-indore-test-2023-03-02/\n",
      "https://www.reuters.com/lifestyle/sports/top-25-roundup-ot-win-gives-no-2-alabama-outright-sec-title-2023-03-02/\n",
      "https://www.reuters.com/markets/europe/finnish-dockworkers-strike-ends-with-wage-deal-2023-03-02/\n",
      "https://www.reuters.com/markets/europe/dutch-inflation-picks-up-february-food-prices-surge-2023-03-02/\n",
      "https://www.reuters.com/markets/europe/clariant-sees-slight-sales-drop-2023-2023-03-02/\n",
      "https://www.reuters.com/world/india/indias-top-court-asks-regulator-swiftly-probe-hindenburg-report-adani-2023-03-02/\n",
      "https://www.reuters.com/business/healthcare-pharmaceuticals/regulators-extend-shelf-life-valnevas-covid-vaccine-candidate-2023-03-02/\n",
      "https://www.reuters.com/business/autos-transportation/tesla-investor-day-gives-rare-look-executive-bench-2023-03-02/\n",
      "https://www.reuters.com/markets/europe/covestro-sees-lower-2023-profit-macro-geopolitical-challenges-2023-03-02/\n",
      "https://www.reuters.com/lifestyle/sports/nhl-roundup-connor-mcdavids-historic-multi-goal-streak-hits-5-2023-03-02/\n",
      "https://www.reuters.com/world/middle-east/uae-gross-domestic-product-grew-76-2022-minister-2023-03-02/\n",
      "https://www.reuters.com/lifestyle/sports/nba-roundup-suns-win-kevin-durants-debut-2023-03-02/\n",
      "https://www.reuters.com/markets/deals/sgs-divests-vehicle-inspection-business-macadam-europe-2023-03-02/\n",
      "https://www.reuters.com/markets/europe/polands-pekao-q4-net-profit-8861-mln-zlotys-above-expectations-2023-03-02/\n",
      "https://www.reuters.com/markets/europe/ecb-confronts-cold-reality-companies-are-cashing-inflation-2023-03-02/\n",
      "https://www.reuters.com/markets/europe/merck-kgaa-expects-2023-profit-slip-covid-demand-wanes-2023-03-02/\n",
      "https://www.reuters.com/business/environment/global-energy-related-co2-emissions-edged-up-record-high-2022-iea-2023-03-02/\n",
      "https://www.reuters.com/world/china/china-increasingly-ambitious-with-2023-growth-target-may-aim-up-6-sources-2023-03-02/\n",
      "https://www.reuters.com/world/india/india-top-court-orders-bipartisan-panel-select-election-commissioners-media-2023-03-02/\n",
      "https://www.reuters.com/markets/commodities/evonik-sees-lower-2023-core-profit-2023-03-02/\n",
      "https://www.reuters.com/lifestyle/sports/australia-all-out-197-indore-test-lead-by-88-2023-03-02/\n",
      "https://www.reuters.com/business/autos-transportation/indias-feb-bike-sales-climb-wedding-demand-easing-chip-shortages-2023-03-02/\n",
      "https://www.reuters.com/lifestyle/sports/mick-schumacher-feels-no-need-watch-drive-survive-2023-03-02/\n",
      "https://www.reuters.com/markets/global-markets-view-europe-2023-03-02/\n",
      "https://www.reuters.com/lifestyle/sports/west-indies-limited-test-calendar-limits-milestone-chances-holder-2023-03-02/\n",
      "https://www.reuters.com/markets/deals/hkbn-confirms-takeover-interest-infrastructure-investor-2023-03-02/\n",
      "https://www.reuters.com/markets/commodities/safricas-impala-platinum-hy-profit-down-2-2023-03-02/\n",
      "https://www.reuters.com/technology/china-leads-us-global-competition-key-emerging-technology-study-says-2023-03-02/\n",
      "https://www.reuters.com/business/energy/chinas-march-imports-russian-oil-may-hit-record-shiptracking-data-2023-03-02/\n",
      "https://www.reuters.com/technology/australias-diy-pension-funds-lose-millions-crypto-bets-investors-not-sweating-it-2023-03-02/\n",
      "https://www.reuters.com/world/british-navy-says-it-has-seized-smuggled-iranian-weapons-gulf-2023-03-02/\n",
      "https://www.reuters.com/world/india/italy-pm-visits-india-seeking-improve-ties-2023-03-02/\n",
      "https://www.reuters.com/technology/microsoft-africa-internet-plan-moves-forward-with-fiber-deal-2023-03-02/\n",
      "https://www.reuters.com/world/americas/magnitude-57-earthquake-strikes-oaxaca-mexico-emsc-2023-03-02/\n",
      "https://www.reuters.com/lifestyle/sports/fifa-appointment-supermodel-lima-baffling-ex-council-member-dodd-2023-03-02/\n",
      "https://www.reuters.com/business/autos-transportation/tesla-readies-revamp-model-y-codenamed-juniper-sources-2023-03-01/\n",
      "https://www.reuters.com/lifestyle/sports/djokovic-targets-elusive-gold-medal-paris-olympics-2023-03-02/\n",
      "https://www.reuters.com/lifestyle/sports/brentfords-toney-seeks-fa-leak-inquiry-over-ban-reports-2023-03-02/\n",
      "https://www.reuters.com/business/sustainable-business/japans-marubeni-saudis-pif-weighing-clean-hydrogen-production-kingdom-2023-03-02/\n",
      "https://www.reuters.com/markets/deals/renault-geely-ink-pact-with-aramco-engine-venture-2023-03-02/\n",
      "https://www.reuters.com/markets/rates-bonds/indonesia-cbank-us-rates-may-rise-further-stance-local-rates-stays-2023-03-02/\n",
      "https://www.reuters.com/lifestyle/sports/wta-roundup-katie-volynets-escapes-5-0-third-set-hole-2023-03-02/\n",
      "https://www.reuters.com/lifestyle/sports/brumbies-brace-blues-juggernaut-super-rugby-pacific-2023-03-02/\n",
      "https://www.reuters.com/world/asia-pacific/vietnam-parliament-elects-vo-van-thuong-new-state-president-2023-03-02/\n",
      "https://www.reuters.com/world/asia-pacific/former-pakistan-woman-hockey-player-killed-italian-shipwreck-2023-03-02/\n",
      "https://www.reuters.com/world/africa/imf-approves-1148-million-south-sudan-emergency-funding-2023-03-02/\n",
      "https://www.reuters.com/markets/asia/ex-boj-gov-shirakawa-urges-re-examination-monetary-framework-inflation-targets-2023-03-02/\n",
      "https://www.reuters.com/business/energy/oil-holds-gains-china-rebound-even-us-crude-stocks-rise-2023-03-02/\n",
      "https://www.reuters.com/markets/asia/thai-jobless-rate-falls-115-q4-2023-03-02/\n",
      "https://www.reuters.com/technology/amazons-cloud-unit-invest-6-bln-malaysia-by-2037-2023-03-02/\n",
      "https://www.reuters.com/markets/global-markets-wrapup-1-pix-2023-03-02/\n",
      "https://www.reuters.com/business/autos-transportation/musk-ai-stresses-me-out-2023-03-02/\n",
      "https://www.reuters.com/world/india/indian-shares-set-open-lower-rate-fears-sustained-foreign-selling-2023-03-02/\n",
      "https://www.reuters.com/world/us-state-department-approves-potential-sale-f-16-munitions-taiwan-pentagon-2023-03-02/\n",
      "https://www.reuters.com/world/middle-east/one-palestinian-killed-three-arrested-over-killing-israeli-american-2023-03-01/\n",
      "https://www.reuters.com/world/un-appoints-ecuadorian-diplomat-envoy-haiti-2023-03-02/\n",
      "https://www.reuters.com/world/europe/russia-journal-moscow-mulls-possible-use-nuclear-arms-fend-off-us-attack-ria-2023-03-02/\n",
      "https://www.reuters.com/lifestyle/sports/bullet-point-previews-premier-league-matches-2023-03-02/\n",
      "https://www.reuters.com/lifestyle/sports/spring-training-roundup-athletics-reds-tie-offensive-showcase-2023-03-02/\n",
      "https://www.reuters.com/markets/asia/record-retail-theft-puts-pressure-australian-supermarket-giants-2023-03-02/\n",
      "https://www.reuters.com/world/asia-pacific/defence-contractors-target-australia-it-gears-up-counter-china-2023-03-02/\n",
      "https://www.reuters.com/lifestyle/sports/stokes-will-be-sweet-ashes-says-mccullum-2023-03-02/\n",
      "https://www.reuters.com/business/finance/australias-central-bank-pairs-with-industry-digital-projects-2023-03-02/\n",
      "https://www.reuters.com/technology/australias-nitro-software-recommends-potentias-revised-360-mln-buyout-offer-2023-03-02/\n",
      "https://www.reuters.com/business/energy/brazils-petrobras-pay-69-billion-dividends-2023-03-02/\n",
      "https://www.reuters.com/business/energy/brazils-petrobras-posts-q4-profit-up-38-2023-03-02/\n",
      "https://www.reuters.com/markets/currencies/goldman-warns-possible-pre-election-currency-market-turmoil-turkey-2023-03-02/\n",
      "https://www.reuters.com/technology/former-amazon-exec-aims-repeat-logistics-growth-flexport-2023-02-28/\n",
      "https://www.reuters.com/markets/asia/global-markets-view-asia-graphic-pix-2023-03-01/\n",
      "https://www.reuters.com/markets/asia/south-korea-feb-factory-activity-shrinks-8th-month-2023-03-02/\n",
      "https://www.reuters.com/markets/currencies/dollar-squeezed-inflation-drives-up-euro-2023-03-02/\n",
      "https://www.reuters.com/markets/asia/property-developer-china-vanke-raises-nearly-500-mln-share-sale-2023-03-02/\n",
      "https://www.reuters.com/world/americas/ecuador-legislative-commission-backs-impeachment-process-against-lasso-2023-03-02/\n",
      "https://www.reuters.com/markets/asia/japan-corporate-capex-rises-despite-weaker-profits-2023-03-02/\n",
      "https://www.reuters.com/world/europe/ukraine-clings-bakhmut-time-may-be-running-out-russians-advance-2023-03-02/\n",
      "https://www.reuters.com/world/modest-australia-house-price-correction-unfazed-by-rising-rate-expectations-2023-03-02/\n",
      "https://www.reuters.com/business/finance/european-banks-asset-managers-study-halving-stocks-settlement-time-2023-03-02/\n",
      "https://www.reuters.com/world/americas/brazil-mexico-discuss-overcoming-regional-tariff-barriers-statement-2023-03-02/\n",
      "https://www.reuters.com/markets/us/futures-rise-positive-start-march-2023-03-01/\n",
      "https://www.reuters.com/business/aerospace-defense/us-ntsb-investigates-new-runway-close-call-incident-2023-03-02/\n",
      "https://www.reuters.com/world/uk/britains-pret-raises-staff-pay-third-time-year-2023-03-02/\n",
      "https://www.reuters.com/markets/deals/first-horizon-flags-regulatory-delay-td-banks-134-bln-takeover-2023-03-02/\n",
      "https://www.reuters.com/business/healthcare-pharmaceuticals/biden-says-he-will-try-get-more-companies-lower-insulin-price-2023-03-01/\n",
      "https://www.reuters.com/business/aerospace-defense/saudi-uk-ministers-agree-study-combat-air-co-operation-saudi-agency-2023-03-01/\n",
      "https://www.reuters.com/markets/asia/south-korea-jan-factory-output-rises-29-mthmth-2023-03-01/\n",
      "https://www.reuters.com/technology/spacex-ready-retry-launching-nasas-next-space-station-crew-2023-03-01/\n",
      "https://www.reuters.com/world/americas/top-putin-ally-visits-cuba-meets-president-raul-castro-tass-2023-03-01/\n",
      "https://www.reuters.com/world/british-raf-chief-calls-it-unacceptable-china-recruit-western-military-pilots-2023-03-01/\n"
     ]
    }
   ],
   "source": []
  },
  {
   "cell_type": "code",
   "execution_count": null,
   "id": "9e637ced",
   "metadata": {},
   "outputs": [],
   "source": []
  }
 ],
 "metadata": {
  "kernelspec": {
   "display_name": "Python 3 (ipykernel)",
   "language": "python",
   "name": "python3"
  },
  "language_info": {
   "codemirror_mode": {
    "name": "ipython",
    "version": 3
   },
   "file_extension": ".py",
   "mimetype": "text/x-python",
   "name": "python",
   "nbconvert_exporter": "python",
   "pygments_lexer": "ipython3",
   "version": "3.10.7"
  }
 },
 "nbformat": 4,
 "nbformat_minor": 5
}
