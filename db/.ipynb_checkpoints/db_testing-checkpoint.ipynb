{
 "cells": [
  {
   "cell_type": "code",
   "execution_count": 3,
   "id": "77cedadd",
   "metadata": {},
   "outputs": [],
   "source": [
    "import psycopg2\n",
    "\n",
    "# Connect to the PostgreSQL database\n",
    "conn = psycopg2.connect(\n",
    "    host=\"localhost\",\n",
    "    database=\"SearchEngine\",\n",
    "    user=\"postgres\",\n",
    "    password=\"2580\"\n",
    ")\n",
    "\n",
    "# Create a cursor object\n",
    "cursor = conn.cursor()\n",
    "\n",
    "# Execute a query\n",
    "cursor.execute(\"SELECT * FROM sites\")\n",
    "\n",
    "# Fetch the results as a list of tuples\n",
    "results = cursor.fetchall()\n",
    "\n",
    "# Iterate over the results and print each row\n",
    "for row in results:\n",
    "    print(row)\n",
    "\n",
    "# Close the cursor and the database connection\n",
    "cursor.close()\n",
    "conn.close()\n"
   ]
  },
  {
   "cell_type": "code",
   "execution_count": 1,
   "id": "46c1bed7",
   "metadata": {},
   "outputs": [],
   "source": [
    "import requests\n",
    "from html import unescape\n",
    "import re\n",
    "from bs4 import BeautifulSoup"
   ]
  },
  {
   "cell_type": "code",
   "execution_count": 2,
   "id": "7a287d71",
   "metadata": {},
   "outputs": [],
   "source": [
    "url = 'https://www.reuters.com/arc/outboundfeeds/news-sitemap-index/?outputType=xml'"
   ]
  },
  {
   "cell_type": "code",
   "execution_count": 3,
   "id": "c53b28cc",
   "metadata": {},
   "outputs": [],
   "source": [
    "res = requests.get(url)\n",
    "if res.status_code != 200:\n",
    "    print('ohho')\n",
    "\n",
    "soup = BeautifulSoup(res.text, 'xml')\n",
    "\n",
    "sitemap_tags = soup.find_all('sitemap')\n",
    "\n",
    "sitemaps = []\n",
    "for sitemap in sitemap_tags:\n",
    "    loc = sitemap.find('loc')\n",
    "    sitemaps.append(loc.text)"
   ]
  },
  {
   "cell_type": "code",
   "execution_count": 4,
   "id": "a23fb105",
   "metadata": {},
   "outputs": [
    {
     "data": {
      "text/plain": [
       "['https://www.reuters.com/arc/outboundfeeds/news-sitemap/?outputType=xml',\n",
       " 'https://www.reuters.com/arc/outboundfeeds/news-sitemap/?outputType=xml&from=100',\n",
       " 'https://www.reuters.com/arc/outboundfeeds/news-sitemap/?outputType=xml&from=200',\n",
       " 'https://www.reuters.com/arc/outboundfeeds/news-sitemap/?outputType=xml&from=300',\n",
       " 'https://www.reuters.com/arc/outboundfeeds/news-sitemap/?outputType=xml&from=400',\n",
       " 'https://www.reuters.com/arc/outboundfeeds/news-sitemap/?outputType=xml&from=500',\n",
       " 'https://www.reuters.com/arc/outboundfeeds/news-sitemap/?outputType=xml&from=600',\n",
       " 'https://www.reuters.com/arc/outboundfeeds/news-sitemap/?outputType=xml&from=700',\n",
       " 'https://www.reuters.com/arc/outboundfeeds/news-sitemap/?outputType=xml&from=800',\n",
       " 'https://www.reuters.com/arc/outboundfeeds/news-sitemap/?outputType=xml&from=900',\n",
       " 'https://www.reuters.com/arc/outboundfeeds/news-sitemap/?outputType=xml&from=1000']"
      ]
     },
     "execution_count": 4,
     "metadata": {},
     "output_type": "execute_result"
    }
   ],
   "source": [
    "sitemaps"
   ]
  },
  {
   "cell_type": "code",
   "execution_count": 5,
   "id": "cba2cd7c",
   "metadata": {},
   "outputs": [],
   "source": [
    "sitemap = 'https://www.reuters.com/arc/outboundfeeds/news-sitemap/?outputType=xml&from=600'"
   ]
  },
  {
   "cell_type": "code",
   "execution_count": null,
   "id": "07935f13",
   "metadata": {},
   "outputs": [],
   "source": []
  }
 ],
 "metadata": {
  "kernelspec": {
   "display_name": "Python 3 (ipykernel)",
   "language": "python",
   "name": "python3"
  },
  "language_info": {
   "codemirror_mode": {
    "name": "ipython",
    "version": 3
   },
   "file_extension": ".py",
   "mimetype": "text/x-python",
   "name": "python",
   "nbconvert_exporter": "python",
   "pygments_lexer": "ipython3",
   "version": "3.10.7"
  }
 },
 "nbformat": 4,
 "nbformat_minor": 5
}
